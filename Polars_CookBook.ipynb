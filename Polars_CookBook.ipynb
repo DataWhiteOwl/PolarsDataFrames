{
 "cells": [
  {
   "cell_type": "markdown",
   "id": "12e89426",
   "metadata": {},
   "source": [
    "# Chapter Starting with Python Polar"
   ]
  },
  {
   "cell_type": "code",
   "execution_count": 5,
   "id": "13a32a35",
   "metadata": {},
   "outputs": [
    {
     "name": "stdout",
     "output_type": "stream",
     "text": [
      "Requirement already satisfied: pip in c:\\users\\sahilkhu\\appdata\\local\\anaconda3\\lib\\site-packages (24.0)\n",
      "Collecting pip\n",
      "  Using cached pip-25.0.1-py3-none-any.whl.metadata (3.7 kB)\n",
      "Using cached pip-25.0.1-py3-none-any.whl (1.8 MB)\n",
      "Installing collected packages: pip\n",
      "  Attempting uninstall: pip\n",
      "    Found existing installation: pip 24.0\n",
      "    Uninstalling pip-24.0:\n",
      "      Successfully uninstalled pip-24.0\n",
      "Successfully installed pip-25.0.1\n"
     ]
    }
   ],
   "source": [
    "! python.exe -m pip install --upgrade pip"
   ]
  },
  {
   "cell_type": "code",
   "execution_count": 6,
   "id": "c7a6ffba",
   "metadata": {},
   "outputs": [
    {
     "name": "stdout",
     "output_type": "stream",
     "text": [
      "Collecting polars\n",
      "  Using cached polars-1.26.0-cp39-abi3-win_amd64.whl.metadata (15 kB)\n",
      "Using cached polars-1.26.0-cp39-abi3-win_amd64.whl (35.6 MB)\n",
      "Installing collected packages: polars\n",
      "Successfully installed polars-1.26.0\n"
     ]
    }
   ],
   "source": [
    "! pip install polars"
   ]
  },
  {
   "cell_type": "code",
   "execution_count": 7,
   "id": "688e5521",
   "metadata": {},
   "outputs": [
    {
     "name": "stdout",
     "output_type": "stream",
     "text": [
      "Name: polars\n",
      "Version: 1.26.0\n",
      "Summary: Blazingly fast DataFrame library\n",
      "Home-page: https://www.pola.rs/\n",
      "Author: \n",
      "Author-email: Ritchie Vink <ritchie46@gmail.com>\n",
      "License: \n",
      "Location: c:\\Users\\SAHILKHU\\AppData\\Local\\anaconda3\\Lib\\site-packages\n",
      "Requires: \n",
      "Required-by: \n"
     ]
    }
   ],
   "source": [
    "! pip show polars"
   ]
  },
  {
   "cell_type": "code",
   "execution_count": 8,
   "id": "7556cbd6",
   "metadata": {},
   "outputs": [
    {
     "name": "stdout",
     "output_type": "stream",
     "text": [
      "--------Version info---------\n",
      "Polars:              1.26.0\n",
      "Index type:          UInt32\n",
      "Platform:            Windows-11-10.0.22621-SP0\n",
      "Python:              3.12.3 | packaged by conda-forge | (main, Apr 15 2024, 18:20:11) [MSC v.1938 64 bit (AMD64)]\n",
      "LTS CPU:             False\n",
      "\n",
      "----Optional dependencies----\n",
      "Azure CLI            <not installed>\n",
      "adbc_driver_manager  <not installed>\n",
      "altair               5.0.1\n",
      "azure.identity       <not installed>\n",
      "boto3                <not installed>\n",
      "cloudpickle          2.2.1\n",
      "connectorx           <not installed>\n",
      "deltalake            <not installed>\n",
      "fastexcel            <not installed>\n",
      "fsspec               2024.3.1\n",
      "gevent               <not installed>\n",
      "google.auth          <not installed>\n",
      "great_tables         <not installed>\n",
      "matplotlib           3.8.4\n",
      "numpy                1.26.4\n",
      "openpyxl             3.1.2\n",
      "pandas               2.2.2\n",
      "polars_cloud         <not installed>\n",
      "pyarrow              14.0.2\n",
      "pydantic             2.5.3\n",
      "pyiceberg            <not installed>\n",
      "sqlalchemy           2.0.30\n",
      "torch                <not installed>\n",
      "xlsx2csv             <not installed>\n",
      "xlsxwriter           3.2.2\n"
     ]
    }
   ],
   "source": [
    "import polars as pl\n",
    "pl.show_versions()"
   ]
  },
  {
   "cell_type": "code",
   "execution_count": 9,
   "id": "97f64134",
   "metadata": {},
   "outputs": [
    {
     "name": "stdout",
     "output_type": "stream",
     "text": [
      "Requirement already satisfied: graphviz in c:\\users\\sahilkhu\\appdata\\local\\anaconda3\\lib\\site-packages (0.20.3)\n"
     ]
    }
   ],
   "source": [
    "! pip install graphviz"
   ]
  },
  {
   "cell_type": "code",
   "execution_count": 10,
   "id": "427cf2f2",
   "metadata": {},
   "outputs": [
    {
     "name": "stdout",
     "output_type": "stream",
     "text": [
      "Name: graphviz\n",
      "Version: 0.20.3\n",
      "Summary: Simple Python interface for Graphviz\n",
      "Home-page: https://github.com/xflr6/graphviz\n",
      "Author: Sebastian Bank\n",
      "Author-email: sebastian.bank@uni-leipzig.de\n",
      "License: MIT\n",
      "Location: c:\\Users\\SAHILKHU\\AppData\\Local\\anaconda3\\Lib\\site-packages\n",
      "Requires: \n",
      "Required-by: \n"
     ]
    }
   ],
   "source": [
    "! pip show graphviz"
   ]
  },
  {
   "cell_type": "code",
   "execution_count": null,
   "id": "6fc2a77a",
   "metadata": {},
   "outputs": [],
   "source": [
    "# ! pip list"
   ]
  },
  {
   "cell_type": "markdown",
   "id": "d6ca6108",
   "metadata": {},
   "source": [
    "## The Polars DataFrame"
   ]
  },
  {
   "cell_type": "markdown",
   "id": "2a14e679",
   "metadata": {},
   "source": [
    "### Creating a DataFrame from Scratch with python dictionary as input "
   ]
  },
  {
   "cell_type": "code",
   "execution_count": null,
   "id": "74bc361a",
   "metadata": {},
   "outputs": [],
   "source": [
    "df = pl.DataFrame({\n",
    "    'num': [1, 2, 3, 4],\n",
    "    'letter': ['a', 'b', 'c', 'd'],\n",
    "})"
   ]
  },
  {
   "cell_type": "code",
   "execution_count": 13,
   "id": "5ffdd449",
   "metadata": {},
   "outputs": [
    {
     "data": {
      "text/html": [
       "<div><style>\n",
       ".dataframe > thead > tr,\n",
       ".dataframe > tbody > tr {\n",
       "  text-align: right;\n",
       "  white-space: pre-wrap;\n",
       "}\n",
       "</style>\n",
       "<small>shape: (4, 2)</small><table border=\"1\" class=\"dataframe\"><thead><tr><th>num</th><th>letter</th></tr><tr><td>i64</td><td>str</td></tr></thead><tbody><tr><td>1</td><td>&quot;a&quot;</td></tr><tr><td>2</td><td>&quot;b&quot;</td></tr><tr><td>3</td><td>&quot;c&quot;</td></tr><tr><td>4</td><td>&quot;d&quot;</td></tr></tbody></table></div>"
      ],
      "text/plain": [
       "shape: (4, 2)\n",
       "┌─────┬────────┐\n",
       "│ num ┆ letter │\n",
       "│ --- ┆ ---    │\n",
       "│ i64 ┆ str    │\n",
       "╞═════╪════════╡\n",
       "│ 1   ┆ a      │\n",
       "│ 2   ┆ b      │\n",
       "│ 3   ┆ c      │\n",
       "│ 4   ┆ d      │\n",
       "└─────┴────────┘"
      ]
     },
     "execution_count": 13,
     "metadata": {},
     "output_type": "execute_result"
    }
   ],
   "source": [
    "df"
   ]
  },
  {
   "cell_type": "markdown",
   "id": "38ce02e6",
   "metadata": {},
   "source": []
  },
  {
   "cell_type": "code",
   "execution_count": null,
   "id": "c86dd74c",
   "metadata": {},
   "outputs": [],
   "source": [
    "# ! pip show pandas"
   ]
  },
  {
   "cell_type": "code",
   "execution_count": null,
   "id": "795a59c1",
   "metadata": {},
   "outputs": [
    {
     "data": {
      "text/html": [
       "<div><style>\n",
       ".dataframe > thead > tr,\n",
       ".dataframe > tbody > tr {\n",
       "  text-align: right;\n",
       "  white-space: pre-wrap;\n",
       "}\n",
       "</style>\n",
       "<small>shape: (891, 12)</small><table border=\"1\" class=\"dataframe\"><thead><tr><th>PassengerId</th><th>Survived</th><th>Pclass</th><th>Name</th><th>Sex</th><th>Age</th><th>SibSp</th><th>Parch</th><th>Ticket</th><th>Fare</th><th>Cabin</th><th>Embarked</th></tr><tr><td>i64</td><td>i64</td><td>i64</td><td>str</td><td>str</td><td>f64</td><td>i64</td><td>i64</td><td>str</td><td>f64</td><td>str</td><td>str</td></tr></thead><tbody><tr><td>1</td><td>0</td><td>3</td><td>&quot;Braund, Mr. Owen Harris&quot;</td><td>&quot;male&quot;</td><td>22.0</td><td>1</td><td>0</td><td>&quot;A/5 21171&quot;</td><td>7.25</td><td>null</td><td>&quot;S&quot;</td></tr><tr><td>2</td><td>1</td><td>1</td><td>&quot;Cumings, Mrs. John Bradley (Fl…</td><td>&quot;female&quot;</td><td>38.0</td><td>1</td><td>0</td><td>&quot;PC 17599&quot;</td><td>71.2833</td><td>&quot;C85&quot;</td><td>&quot;C&quot;</td></tr><tr><td>3</td><td>1</td><td>3</td><td>&quot;Heikkinen, Miss. Laina&quot;</td><td>&quot;female&quot;</td><td>26.0</td><td>0</td><td>0</td><td>&quot;STON/O2. 3101282&quot;</td><td>7.925</td><td>null</td><td>&quot;S&quot;</td></tr><tr><td>4</td><td>1</td><td>1</td><td>&quot;Futrelle, Mrs. Jacques Heath (…</td><td>&quot;female&quot;</td><td>35.0</td><td>1</td><td>0</td><td>&quot;113803&quot;</td><td>53.1</td><td>&quot;C123&quot;</td><td>&quot;S&quot;</td></tr><tr><td>5</td><td>0</td><td>3</td><td>&quot;Allen, Mr. William Henry&quot;</td><td>&quot;male&quot;</td><td>35.0</td><td>0</td><td>0</td><td>&quot;373450&quot;</td><td>8.05</td><td>null</td><td>&quot;S&quot;</td></tr><tr><td>&hellip;</td><td>&hellip;</td><td>&hellip;</td><td>&hellip;</td><td>&hellip;</td><td>&hellip;</td><td>&hellip;</td><td>&hellip;</td><td>&hellip;</td><td>&hellip;</td><td>&hellip;</td><td>&hellip;</td></tr><tr><td>887</td><td>0</td><td>2</td><td>&quot;Montvila, Rev. Juozas&quot;</td><td>&quot;male&quot;</td><td>27.0</td><td>0</td><td>0</td><td>&quot;211536&quot;</td><td>13.0</td><td>null</td><td>&quot;S&quot;</td></tr><tr><td>888</td><td>1</td><td>1</td><td>&quot;Graham, Miss. Margaret Edith&quot;</td><td>&quot;female&quot;</td><td>19.0</td><td>0</td><td>0</td><td>&quot;112053&quot;</td><td>30.0</td><td>&quot;B42&quot;</td><td>&quot;S&quot;</td></tr><tr><td>889</td><td>0</td><td>3</td><td>&quot;Johnston, Miss. Catherine Hele…</td><td>&quot;female&quot;</td><td>null</td><td>1</td><td>2</td><td>&quot;W./C. 6607&quot;</td><td>23.45</td><td>null</td><td>&quot;S&quot;</td></tr><tr><td>890</td><td>1</td><td>1</td><td>&quot;Behr, Mr. Karl Howell&quot;</td><td>&quot;male&quot;</td><td>26.0</td><td>0</td><td>0</td><td>&quot;111369&quot;</td><td>30.0</td><td>&quot;C148&quot;</td><td>&quot;C&quot;</td></tr><tr><td>891</td><td>0</td><td>3</td><td>&quot;Dooley, Mr. Patrick&quot;</td><td>&quot;male&quot;</td><td>32.0</td><td>0</td><td>0</td><td>&quot;370376&quot;</td><td>7.75</td><td>null</td><td>&quot;Q&quot;</td></tr></tbody></table></div>"
      ],
      "text/plain": [
       "shape: (891, 12)\n",
       "┌─────────────┬──────────┬────────┬──────────────────┬───┬────────────┬─────────┬───────┬──────────┐\n",
       "│ PassengerId ┆ Survived ┆ Pclass ┆ Name             ┆ … ┆ Ticket     ┆ Fare    ┆ Cabin ┆ Embarked │\n",
       "│ ---         ┆ ---      ┆ ---    ┆ ---              ┆   ┆ ---        ┆ ---     ┆ ---   ┆ ---      │\n",
       "│ i64         ┆ i64      ┆ i64    ┆ str              ┆   ┆ str        ┆ f64     ┆ str   ┆ str      │\n",
       "╞═════════════╪══════════╪════════╪══════════════════╪═══╪════════════╪═════════╪═══════╪══════════╡\n",
       "│ 1           ┆ 0        ┆ 3      ┆ Braund, Mr. Owen ┆ … ┆ A/5 21171  ┆ 7.25    ┆ null  ┆ S        │\n",
       "│             ┆          ┆        ┆ Harris           ┆   ┆            ┆         ┆       ┆          │\n",
       "│ 2           ┆ 1        ┆ 1      ┆ Cumings, Mrs.    ┆ … ┆ PC 17599   ┆ 71.2833 ┆ C85   ┆ C        │\n",
       "│             ┆          ┆        ┆ John Bradley     ┆   ┆            ┆         ┆       ┆          │\n",
       "│             ┆          ┆        ┆ (Fl…             ┆   ┆            ┆         ┆       ┆          │\n",
       "│ 3           ┆ 1        ┆ 3      ┆ Heikkinen, Miss. ┆ … ┆ STON/O2.   ┆ 7.925   ┆ null  ┆ S        │\n",
       "│             ┆          ┆        ┆ Laina            ┆   ┆ 3101282    ┆         ┆       ┆          │\n",
       "│ 4           ┆ 1        ┆ 1      ┆ Futrelle, Mrs.   ┆ … ┆ 113803     ┆ 53.1    ┆ C123  ┆ S        │\n",
       "│             ┆          ┆        ┆ Jacques Heath (… ┆   ┆            ┆         ┆       ┆          │\n",
       "│ 5           ┆ 0        ┆ 3      ┆ Allen, Mr.       ┆ … ┆ 373450     ┆ 8.05    ┆ null  ┆ S        │\n",
       "│             ┆          ┆        ┆ William Henry    ┆   ┆            ┆         ┆       ┆          │\n",
       "│ …           ┆ …        ┆ …      ┆ …                ┆ … ┆ …          ┆ …       ┆ …     ┆ …        │\n",
       "│ 887         ┆ 0        ┆ 2      ┆ Montvila, Rev.   ┆ … ┆ 211536     ┆ 13.0    ┆ null  ┆ S        │\n",
       "│             ┆          ┆        ┆ Juozas           ┆   ┆            ┆         ┆       ┆          │\n",
       "│ 888         ┆ 1        ┆ 1      ┆ Graham, Miss.    ┆ … ┆ 112053     ┆ 30.0    ┆ B42   ┆ S        │\n",
       "│             ┆          ┆        ┆ Margaret Edith   ┆   ┆            ┆         ┆       ┆          │\n",
       "│ 889         ┆ 0        ┆ 3      ┆ Johnston, Miss.  ┆ … ┆ W./C. 6607 ┆ 23.45   ┆ null  ┆ S        │\n",
       "│             ┆          ┆        ┆ Catherine Hele…  ┆   ┆            ┆         ┆       ┆          │\n",
       "│ 890         ┆ 1        ┆ 1      ┆ Behr, Mr. Karl   ┆ … ┆ 111369     ┆ 30.0    ┆ C148  ┆ C        │\n",
       "│             ┆          ┆        ┆ Howell           ┆   ┆            ┆         ┆       ┆          │\n",
       "│ 891         ┆ 0        ┆ 3      ┆ Dooley, Mr.      ┆ … ┆ 370376     ┆ 7.75    ┆ null  ┆ Q        │\n",
       "│             ┆          ┆        ┆ Patrick          ┆   ┆            ┆         ┆       ┆          │\n",
       "└─────────────┴──────────┴────────┴──────────────────┴───┴────────────┴─────────┴───────┴──────────┘"
      ]
     },
     "execution_count": 36,
     "metadata": {},
     "output_type": "execute_result"
    }
   ],
   "source": [
    "url = 'https://raw.githubusercontent.com/DataWhiteOwl/DataSets/refs/heads/main/Titanic_DataSet/titanic_dataset.csv'\n",
    "df1 = pl.read_csv(url)\n",
    "df1\n",
    "# df1 = df_original_dataSet.copy()\n",
    "# df1"
   ]
  },
  {
   "cell_type": "code",
   "execution_count": 37,
   "id": "a7030b49",
   "metadata": {},
   "outputs": [
    {
     "data": {
      "text/plain": [
       "Schema([('PassengerId', Int64),\n",
       "        ('Survived', Int64),\n",
       "        ('Pclass', Int64),\n",
       "        ('Name', String),\n",
       "        ('Sex', String),\n",
       "        ('Age', Float64),\n",
       "        ('SibSp', Int64),\n",
       "        ('Parch', Int64),\n",
       "        ('Ticket', String),\n",
       "        ('Fare', Float64),\n",
       "        ('Cabin', String),\n",
       "        ('Embarked', String)])"
      ]
     },
     "execution_count": 37,
     "metadata": {},
     "output_type": "execute_result"
    }
   ],
   "source": [
    "df1.schema"
   ]
  },
  {
   "cell_type": "code",
   "execution_count": null,
   "id": "98b99987",
   "metadata": {},
   "outputs": [
    {
     "data": {
      "text/plain": [
       "(891, 12)"
      ]
     },
     "execution_count": 38,
     "metadata": {},
     "output_type": "execute_result"
    }
   ],
   "source": [
    "df1.shape ## rows X cloumns"
   ]
  },
  {
   "cell_type": "code",
   "execution_count": null,
   "id": "e00c837a",
   "metadata": {},
   "outputs": [
    {
     "data": {
      "text/plain": [
       "891"
      ]
     },
     "execution_count": 39,
     "metadata": {},
     "output_type": "execute_result"
    }
   ],
   "source": [
    "df1.height # rows"
   ]
  },
  {
   "cell_type": "code",
   "execution_count": null,
   "id": "763acbd7",
   "metadata": {},
   "outputs": [
    {
     "data": {
      "text/plain": [
       "12"
      ]
     },
     "execution_count": 40,
     "metadata": {},
     "output_type": "execute_result"
    }
   ],
   "source": [
    "df1.width # columns"
   ]
  },
  {
   "cell_type": "code",
   "execution_count": 41,
   "id": "6f73ded6",
   "metadata": {},
   "outputs": [
    {
     "data": {
      "text/plain": [
       "{'PassengerId': {'SORTED_ASC': False, 'SORTED_DESC': False},\n",
       " 'Survived': {'SORTED_ASC': False, 'SORTED_DESC': False},\n",
       " 'Pclass': {'SORTED_ASC': False, 'SORTED_DESC': False},\n",
       " 'Name': {'SORTED_ASC': False, 'SORTED_DESC': False},\n",
       " 'Sex': {'SORTED_ASC': False, 'SORTED_DESC': False},\n",
       " 'Age': {'SORTED_ASC': False, 'SORTED_DESC': False},\n",
       " 'SibSp': {'SORTED_ASC': False, 'SORTED_DESC': False},\n",
       " 'Parch': {'SORTED_ASC': False, 'SORTED_DESC': False},\n",
       " 'Ticket': {'SORTED_ASC': False, 'SORTED_DESC': False},\n",
       " 'Fare': {'SORTED_ASC': False, 'SORTED_DESC': False},\n",
       " 'Cabin': {'SORTED_ASC': False, 'SORTED_DESC': False},\n",
       " 'Embarked': {'SORTED_ASC': False, 'SORTED_DESC': False}}"
      ]
     },
     "execution_count": 41,
     "metadata": {},
     "output_type": "execute_result"
    }
   ],
   "source": [
    "df1.flags"
   ]
  },
  {
   "cell_type": "markdown",
   "id": "6cbd3dbe",
   "metadata": {},
   "source": [
    "#### Special Notes\n"
   ]
  },
  {
   "cell_type": "code",
   "execution_count": 1,
   "id": "c30d848d",
   "metadata": {},
   "outputs": [],
   "source": [
    "import polars as pl"
   ]
  },
  {
   "cell_type": "code",
   "execution_count": null,
   "id": "7cf2baa5",
   "metadata": {},
   "outputs": [],
   "source": []
  }
 ],
 "metadata": {
  "kernelspec": {
   "display_name": "base",
   "language": "python",
   "name": "python3"
  },
  "language_info": {
   "codemirror_mode": {
    "name": "ipython",
    "version": 3
   },
   "file_extension": ".py",
   "mimetype": "text/x-python",
   "name": "python",
   "nbconvert_exporter": "python",
   "pygments_lexer": "ipython3",
   "version": "3.12.3"
  }
 },
 "nbformat": 4,
 "nbformat_minor": 5
}
